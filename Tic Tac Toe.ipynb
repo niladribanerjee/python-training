{
 "cells": [
  {
   "cell_type": "markdown",
   "metadata": {},
   "source": [
    "#### Project Tic Tac Toe"
   ]
  },
  {
   "cell_type": "code",
   "execution_count": 1,
   "metadata": {},
   "outputs": [],
   "source": [
    "from IPython.display import clear_output\n",
    "\n",
    "def display_board(board):\n",
    "    clear_output()\n",
    "    print (board[1]+'|'+board[2]+'|'+board[3])\n",
    "    print ('-----')\n",
    "    print (board[4]+'|'+board[5]+'|'+board[6])\n",
    "    print ('-----')\n",
    "    print (board[7]+'|'+board[8]+'|'+board[9])  "
   ]
  },
  {
   "cell_type": "code",
   "execution_count": 2,
   "metadata": {},
   "outputs": [],
   "source": [
    "def player_input():\n",
    "    marker = ''\n",
    "    \n",
    "    while marker != 'X' and marker != 'O':\n",
    "        marker = input ('Player 1 Choose your marker (X or O):')\n",
    "    \n",
    "        # Assign marker to Player 1\n",
    "        player1 = marker\n",
    "    \n",
    "        if player1 == 'X':\n",
    "            player2 = 'O'\n",
    "        else:\n",
    "            player2 = 'X'\n",
    "    \n",
    "    return (player1,player2)"
   ]
  },
  {
   "cell_type": "code",
   "execution_count": 3,
   "metadata": {},
   "outputs": [],
   "source": [
    "def place_marker(board, marker, position):        \n",
    "    if position in range (1,10):\n",
    "        board[position] = marker\n",
    "    return board[position] == 'X' or board[position] == 'O'"
   ]
  },
  {
   "cell_type": "code",
   "execution_count": 4,
   "metadata": {},
   "outputs": [],
   "source": [
    "def win_check (board):\n",
    "        return  (\n",
    "            (board [1] == board [2] == board [3]) and (board [1] != ' ' and board [2] != ' ' and board [3] != ' ')\n",
    "            or\n",
    "            (board [4] == board [5] == board [6]) and (board [4] != ' ' and board [5] != ' ' and board [6] != ' ')\n",
    "            or\n",
    "            (board [7] == board [8] == board [9]) and (board [7] != ' ' and board [8] != ' ' and board [9] != ' ')\n",
    "            or\n",
    "            (board [1] == board [4] == board [7]) and (board [1] != ' ' and board [4] != ' ' and board [7] != ' ')\n",
    "            or\n",
    "            (board [1] == board [5] == board [9]) and (board [1] != ' ' and board [5] != ' ' and board [9] != ' ')\n",
    "            or\n",
    "            (board [3] == board [5] == board [7]) and (board [3] != ' ' and board [5] != ' ' and board [7] != ' ')\n",
    "            or\n",
    "            (board [3] == board [6] == board [9]) and (board [3] != ' ' and board [6] != ' ' and board [9] != ' ')\n",
    "            or\n",
    "            (board [2] == board [5] == board [8]) and (board [2] != ' ' and board [5] != ' ' and board [8] != ' ')\n",
    "        )"
   ]
  },
  {
   "cell_type": "code",
   "execution_count": 5,
   "metadata": {},
   "outputs": [],
   "source": [
    "def replay ():\n",
    "    choice = ''\n",
    "    while choice != 'Y' and choice != 'N':\n",
    "        choice = input (\"Do you want to play again (Y/N): \")\n",
    "        \n",
    "    return choice == 'Y'"
   ]
  },
  {
   "cell_type": "code",
   "execution_count": null,
   "metadata": {
    "scrolled": true
   },
   "outputs": [
    {
     "name": "stdout",
     "output_type": "stream",
     "text": [
      " | | \n",
      "-----\n",
      " | | \n",
      "-----\n",
      " | | \n"
     ]
    }
   ],
   "source": [
    "# Setup the game\n",
    "\n",
    "print('Welcome to Tic Tac Toe!')\n",
    "board = [' ']*10\n",
    "game_on = True\n",
    "player_won = 0\n",
    "\n",
    "#display_board (board)\n",
    "player1,player2 = player_input()\n",
    "\n",
    "#print (f'Player 1 marker : {player1}')\n",
    "#print (f'Player 2 marker : {player2}')\n",
    "\n",
    "while game_on:\n",
    "    #Player 1 Turn\n",
    "    mark = int(input (\"Player 1 Enter a position [1-9]: \"))\n",
    "    place_marker(board, player1, mark)\n",
    "    display_board (board)\n",
    "        \n",
    "    if win_check (board) and player_won == 0:\n",
    "        print (\"Congratulations Player 1 .. You have won the game!!\")\n",
    "        player_won = 1\n",
    "        \n",
    "    # Player2's turn.\n",
    "    if player_won == 0:\n",
    "        mark = int(input (\"Player 2 Enter a position [0-9]: \"))\n",
    "        place_marker(board, player2, mark)\n",
    "        display_board (board)\n",
    "        \n",
    "    if win_check (board) and player_won == 0:\n",
    "        print (\"Congratulations Player 2 .. You have won the game!!\")\n",
    "        player_won = 1\n",
    "\n",
    "    if player_won == 1:\n",
    "        if replay():\n",
    "            board = [' ']*10\n",
    "            display_board (board)\n",
    "            player_won = 0\n",
    "            game_on = True\n",
    "        else:\n",
    "            print ('Thank you for your time!')\n",
    "            break"
   ]
  },
  {
   "cell_type": "code",
   "execution_count": null,
   "metadata": {},
   "outputs": [],
   "source": []
  },
  {
   "cell_type": "code",
   "execution_count": null,
   "metadata": {},
   "outputs": [],
   "source": []
  }
 ],
 "metadata": {
  "kernelspec": {
   "display_name": "Python 3",
   "language": "python",
   "name": "python3"
  },
  "language_info": {
   "codemirror_mode": {
    "name": "ipython",
    "version": 3
   },
   "file_extension": ".py",
   "mimetype": "text/x-python",
   "name": "python",
   "nbconvert_exporter": "python",
   "pygments_lexer": "ipython3",
   "version": "3.6.5"
  }
 },
 "nbformat": 4,
 "nbformat_minor": 2
}
